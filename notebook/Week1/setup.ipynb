{
 "cells": [
  {
   "cell_type": "code",
   "id": "initial_id",
   "metadata": {
    "collapsed": true,
    "ExecuteTime": {
     "end_time": "2025-06-02T04:53:32.211393Z",
     "start_time": "2025-06-02T04:53:31.998585Z"
    }
   },
   "source": [
    "from openai import OpenAI\n",
    "import os"
   ],
   "outputs": [],
   "execution_count": 2
  },
  {
   "metadata": {
    "ExecuteTime": {
     "end_time": "2025-06-02T04:53:37.306788Z",
     "start_time": "2025-06-02T04:53:37.282365Z"
    }
   },
   "cell_type": "code",
   "source": "client = OpenAI()",
   "id": "f9bf99ab8019edc7",
   "outputs": [],
   "execution_count": 4
  },
  {
   "metadata": {
    "ExecuteTime": {
     "end_time": "2025-06-02T04:56:14.608047Z",
     "start_time": "2025-06-02T04:56:11.580509Z"
    }
   },
   "cell_type": "code",
   "source": [
    "response = client.responses.create(\n",
    "    model=\"gpt-4o\",\n",
    "    input=\"Write a one-sentence bedtime story about a unicorn.\"\n",
    ")\n",
    "\n",
    "print(response.output_text)"
   ],
   "id": "7f13c54fb7a7e1dc",
   "outputs": [
    {
     "name": "stdout",
     "output_type": "stream",
     "text": [
      "Under the shimmering light of a silver moon, a gentle unicorn named Luna painted dreams in the skies with her magical, glowing horn, filling the night with wonder and peace.\n"
     ]
    }
   ],
   "execution_count": 5
  },
  {
   "metadata": {
    "ExecuteTime": {
     "end_time": "2025-06-02T04:57:37.114124Z",
     "start_time": "2025-06-02T04:57:37.108981Z"
    }
   },
   "cell_type": "code",
   "source": "",
   "id": "371acb206123d678",
   "outputs": [
    {
     "data": {
      "text/plain": [
       "'auto'"
      ]
     },
     "execution_count": 6,
     "metadata": {},
     "output_type": "execute_result"
    }
   ],
   "execution_count": 6
  }
 ],
 "metadata": {
  "kernelspec": {
   "display_name": "Python 3",
   "language": "python",
   "name": "python3"
  },
  "language_info": {
   "codemirror_mode": {
    "name": "ipython",
    "version": 2
   },
   "file_extension": ".py",
   "mimetype": "text/x-python",
   "name": "python",
   "nbconvert_exporter": "python",
   "pygments_lexer": "ipython2",
   "version": "2.7.6"
  }
 },
 "nbformat": 4,
 "nbformat_minor": 5
}
